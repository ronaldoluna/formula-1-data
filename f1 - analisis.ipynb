{
 "cells": [
  {
   "cell_type": "code",
   "execution_count": 22,
   "id": "ad909f25",
   "metadata": {},
   "outputs": [],
   "source": [
    "import requests\n",
    "import json\n",
    "import pandas as pd\n",
    "import warnings\n",
    "warnings.filterwarnings('ignore')\n",
    "import numpy as np"
   ]
  },
  {
   "cell_type": "code",
   "execution_count": 23,
   "id": "94817f6f",
   "metadata": {},
   "outputs": [],
   "source": [
    "url = \"http://ergast.com/api/f1/seasons.json?limit=1000\"\n",
    "response = requests.get(url)\n",
    "content = json.loads(response.content)\n",
    "\n",
    "seasons = {'season': [], 'url': []}\n",
    "\n",
    "for item in content['MRData']['SeasonTable']['Seasons']:\n",
    "    seasons['season'].append(int(item['season']))\n",
    "    seasons['url'].append(item['url'])\n",
    "    \n",
    "pd.DataFrame(seasons).to_csv('seasons.csv', index = False)"
   ]
  },
  {
   "cell_type": "code",
   "execution_count": 26,
   "id": "e3f64662",
   "metadata": {},
   "outputs": [
    {
     "name": "stdout",
     "output_type": "stream",
     "text": [
      "2023\n"
     ]
    }
   ],
   "source": [
    "ult_temp = np.max(seasons['season'])\n",
    "print(ult_temp)"
   ]
  },
  {
   "cell_type": "code",
   "execution_count": 29,
   "id": "6f7920a3",
   "metadata": {
    "scrolled": true
   },
   "outputs": [],
   "source": [
    "#Debemos crear un diccionario\n",
    "races = {\"season\":[], \"round\":[], \"raceName\":[], \"circuit_id\":[], \"lat\":[], \"long\":[], \"country\":[], \"date\":[], \"url\":[]}\n",
    "\n",
    "for year in list (range(2010, ult_temp + 1)):\n",
    "    url = \"http://ergast.com/api/f1/{}.json\"\n",
    "    response = requests.get(url.format(year))\n",
    "    content = json.loads(response.content)\n",
    "    \n",
    "    for item in content['MRData']['RaceTable']['Races']:\n",
    "        races['season'].append(int(item['season']))\n",
    "        races['round'].append(int(item['round']))\n",
    "        races['raceName'].append(item['raceName'])\n",
    "        races['circuit_id'].append(item['Circuit']['circuitId'])\n",
    "        races['lat'].append(float(item['Circuit']['Location']['lat']))\n",
    "        races['long'].append(float(item['Circuit']['Location']['long']))\n",
    "        races['country'].append(item['Circuit']['Location']['country'])\n",
    "        races['date'].append(item['date'])\n",
    "        races['url'].append(item['url'])\n",
    "\n",
    "pd.DataFrame(races).to_csv('races.csv', index = False)"
   ]
  },
  {
   "cell_type": "code",
   "execution_count": null,
   "id": "21b7b795",
   "metadata": {},
   "outputs": [],
   "source": []
  }
 ],
 "metadata": {
  "kernelspec": {
   "display_name": "Python 3 (ipykernel)",
   "language": "python",
   "name": "python3"
  },
  "language_info": {
   "codemirror_mode": {
    "name": "ipython",
    "version": 3
   },
   "file_extension": ".py",
   "mimetype": "text/x-python",
   "name": "python",
   "nbconvert_exporter": "python",
   "pygments_lexer": "ipython3",
   "version": "3.9.13"
  }
 },
 "nbformat": 4,
 "nbformat_minor": 5
}
