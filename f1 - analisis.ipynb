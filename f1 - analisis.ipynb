{
 "cells": [
  {
   "cell_type": "code",
   "execution_count": 1,
   "id": "ad909f25",
   "metadata": {},
   "outputs": [],
   "source": [
    "import requests\n",
    "import json\n",
    "import pandas as pd\n",
    "import warnings\n",
    "warnings.filterwarnings('ignore')"
   ]
  },
  {
   "cell_type": "code",
   "execution_count": 2,
   "id": "c2e3bdca",
   "metadata": {},
   "outputs": [],
   "source": [
    "#Debemos crear un diccionario\n",
    "races = {\"season\":[], \"round\":[], \"raceName\":[], \"circuit_id\":[], \"lat\":[], \"long\":[], \"country\":[], \"date\":[], \"url\":[]}"
   ]
  },
  {
   "cell_type": "code",
   "execution_count": 8,
   "id": "6f7920a3",
   "metadata": {
    "scrolled": true
   },
   "outputs": [],
   "source": [
    "for year in list (range(2010, 2023)):\n",
    "    url = \"http://ergast.com/api/f1/{}.json\"\n",
    "    response = requests.get(url.format(year))\n",
    "    content = json.loads(response.content)\n",
    "    \n",
    "    for item in content['MRData']['RaceTable']['Races']:\n",
    "        races['season'].append(int(item['season']))\n",
    "        races['round'].append(int(item['round']))\n",
    "        races['raceName'].append(item['raceName'])\n",
    "        races['circuit_id'].append(item['Circuit']['circuitId'])\n",
    "        races['lat'].append(float(item['Circuit']['Location']['lat']))\n",
    "        races['long'].append(float(item['Circuit']['Location']['long']))\n",
    "        races['country'].append(item['Circuit']['Location']['country'])\n",
    "        races['date'].append(item['date'])\n",
    "        races['url'].append(item['url'])"
   ]
  },
  {
   "cell_type": "code",
   "execution_count": 7,
   "id": "63728049",
   "metadata": {
    "collapsed": true
   },
   "outputs": [
    {
     "ename": "KeyError",
     "evalue": "'RaceTable'",
     "output_type": "error",
     "traceback": [
      "\u001b[1;31m---------------------------------------------------------------------------\u001b[0m",
      "\u001b[1;31mKeyError\u001b[0m                                  Traceback (most recent call last)",
      "\u001b[1;32m~\\AppData\\Local\\Temp\\ipykernel_11132\\773099759.py\u001b[0m in \u001b[0;36m<module>\u001b[1;34m\u001b[0m\n\u001b[0;32m      2\u001b[0m \u001b[0mresponse\u001b[0m \u001b[1;33m=\u001b[0m \u001b[0mrequests\u001b[0m\u001b[1;33m.\u001b[0m\u001b[0mget\u001b[0m\u001b[1;33m(\u001b[0m\u001b[0murl\u001b[0m\u001b[1;33m.\u001b[0m\u001b[0mformat\u001b[0m\u001b[1;33m(\u001b[0m\u001b[1;33m)\u001b[0m\u001b[1;33m)\u001b[0m\u001b[1;33m\u001b[0m\u001b[1;33m\u001b[0m\u001b[0m\n\u001b[0;32m      3\u001b[0m \u001b[0mcontent\u001b[0m \u001b[1;33m=\u001b[0m \u001b[0mjson\u001b[0m\u001b[1;33m.\u001b[0m\u001b[0mloads\u001b[0m\u001b[1;33m(\u001b[0m\u001b[0mresponse\u001b[0m\u001b[1;33m.\u001b[0m\u001b[0mcontent\u001b[0m\u001b[1;33m)\u001b[0m\u001b[1;33m\u001b[0m\u001b[1;33m\u001b[0m\u001b[0m\n\u001b[1;32m----> 4\u001b[1;33m \u001b[0mcontent\u001b[0m\u001b[1;33m[\u001b[0m\u001b[1;34m'MRData'\u001b[0m\u001b[1;33m]\u001b[0m\u001b[1;33m[\u001b[0m\u001b[1;34m'RaceTable'\u001b[0m\u001b[1;33m]\u001b[0m\u001b[1;33m\u001b[0m\u001b[1;33m\u001b[0m\u001b[0m\n\u001b[0m",
      "\u001b[1;31mKeyError\u001b[0m: 'RaceTable'"
     ]
    }
   ],
   "source": [
    "url = \"http://ergast.com/api/f1/seasons.json\"\n",
    "response = requests.get(url.format())\n",
    "content = json.loads(response.content)"
   ]
  },
  {
   "cell_type": "code",
   "execution_count": 20,
   "id": "55edbc31",
   "metadata": {},
   "outputs": [],
   "source": [
    "seasons = {'season': [], 'url': []}"
   ]
  },
  {
   "cell_type": "code",
   "execution_count": 21,
   "id": "f205cdaf",
   "metadata": {},
   "outputs": [],
   "source": [
    "for item in content['MRData']['SeasonTable']['Seasons']:\n",
    "    seasons['season'].append(int(item['season']))\n",
    "    seasons['url'].append(item['url'])"
   ]
  },
  {
   "cell_type": "code",
   "execution_count": 22,
   "id": "c75f710c",
   "metadata": {},
   "outputs": [],
   "source": [
    "pd.DataFrame(races).to_csv('races.csv', index = False)"
   ]
  },
  {
   "cell_type": "code",
   "execution_count": 23,
   "id": "daaca3f4",
   "metadata": {},
   "outputs": [],
   "source": [
    "pd.DataFrame(seasons).to_csv('seasons.csv', index = False)"
   ]
  },
  {
   "cell_type": "code",
   "execution_count": null,
   "id": "9baa053f",
   "metadata": {},
   "outputs": [],
   "source": []
  }
 ],
 "metadata": {
  "kernelspec": {
   "display_name": "Python 3 (ipykernel)",
   "language": "python",
   "name": "python3"
  },
  "language_info": {
   "codemirror_mode": {
    "name": "ipython",
    "version": 3
   },
   "file_extension": ".py",
   "mimetype": "text/x-python",
   "name": "python",
   "nbconvert_exporter": "python",
   "pygments_lexer": "ipython3",
   "version": "3.9.13"
  }
 },
 "nbformat": 4,
 "nbformat_minor": 5
}
