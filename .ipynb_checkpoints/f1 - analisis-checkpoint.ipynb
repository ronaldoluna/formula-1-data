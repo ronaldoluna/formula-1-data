{
 "cells": [
  {
   "cell_type": "code",
   "execution_count": 1,
   "id": "ad909f25",
   "metadata": {},
   "outputs": [],
   "source": [
    "import requests\n",
    "import json\n",
    "import pandas as pd\n",
    "import warnings\n",
    "warnings.filterwarnings('ignore')"
   ]
  },
  {
   "cell_type": "code",
   "execution_count": 14,
   "id": "c2e3bdca",
   "metadata": {},
   "outputs": [],
   "source": [
    "#Debemos crear un diccionario\n",
    "races = {\"season\":[], \"round\":[], \"raceName\":[], \"circuit_id\":[], \"lat\":[], \"long\":[], \"country\":[], \"date\":[], \"url\":[]}"
   ]
  },
  {
   "cell_type": "code",
   "execution_count": 15,
   "id": "6f7920a3",
   "metadata": {
    "scrolled": true
   },
   "outputs": [],
   "source": [
    "for year in list (range(2010, 2023)):\n",
    "    url = \"http://ergast.com/api/f1/{}.json\"\n",
    "    response = requests.get(url.format(year))\n",
    "    content = json.loads(response.content)\n",
    "    \n",
    "    for item in content['MRData']['RaceTable']['Races']:\n",
    "        races['season'].append(int(item['season']))\n",
    "        races['round'].append(int(item['round']))\n",
    "        races['raceName'].append(item['raceName'])\n",
    "        races['circuit_id'].append(item['Circuit']['circuitId'])\n",
    "        races['lat'].append(float(item['Circuit']['Location']['lat']))\n",
    "        races['long'].append(float(item['Circuit']['Location']['long']))\n",
    "        races['country'].append(item['Circuit']['Location']['country'])\n",
    "        races['date'].append(item['date'])\n",
    "        races['url'].append(item['url'])"
   ]
  },
  {
   "cell_type": "code",
   "execution_count": 2,
   "id": "63728049",
   "metadata": {},
   "outputs": [],
   "source": [
    "url = \"http://ergast.com/api/f1/seasons.json?limit=80\"\n",
    "response = requests.get(url)\n",
    "content = json.loads(response.content)"
   ]
  },
  {
   "cell_type": "code",
   "execution_count": 3,
   "id": "55edbc31",
   "metadata": {},
   "outputs": [],
   "source": [
    "seasons = {'season': [], 'url': []}"
   ]
  },
  {
   "cell_type": "code",
   "execution_count": 4,
   "id": "f205cdaf",
   "metadata": {},
   "outputs": [],
   "source": [
    "for item in content['MRData']['SeasonTable']['Seasons']:\n",
    "    seasons['season'].append(int(item['season']))\n",
    "    seasons['url'].append(item['url'])"
   ]
  },
  {
   "cell_type": "code",
   "execution_count": 22,
   "id": "c75f710c",
   "metadata": {},
   "outputs": [],
   "source": [
    "pd.DataFrame(races).to_csv('races.csv', index = False)"
   ]
  },
  {
   "cell_type": "code",
   "execution_count": 5,
   "id": "daaca3f4",
   "metadata": {},
   "outputs": [],
   "source": [
    "pd.DataFrame(seasons).to_csv('seasons.csv', index = False)"
   ]
  },
  {
   "cell_type": "code",
   "execution_count": 6,
   "id": "9baa053f",
   "metadata": {},
   "outputs": [
    {
     "data": {
      "text/html": [
       "<div>\n",
       "<style scoped>\n",
       "    .dataframe tbody tr th:only-of-type {\n",
       "        vertical-align: middle;\n",
       "    }\n",
       "\n",
       "    .dataframe tbody tr th {\n",
       "        vertical-align: top;\n",
       "    }\n",
       "\n",
       "    .dataframe thead th {\n",
       "        text-align: right;\n",
       "    }\n",
       "</style>\n",
       "<table border=\"1\" class=\"dataframe\">\n",
       "  <thead>\n",
       "    <tr style=\"text-align: right;\">\n",
       "      <th></th>\n",
       "      <th>season</th>\n",
       "      <th>url</th>\n",
       "    </tr>\n",
       "  </thead>\n",
       "  <tbody>\n",
       "    <tr>\n",
       "      <th>0</th>\n",
       "      <td>1950</td>\n",
       "      <td>http://en.wikipedia.org/wiki/1950_Formula_One_...</td>\n",
       "    </tr>\n",
       "    <tr>\n",
       "      <th>1</th>\n",
       "      <td>1951</td>\n",
       "      <td>http://en.wikipedia.org/wiki/1951_Formula_One_...</td>\n",
       "    </tr>\n",
       "    <tr>\n",
       "      <th>2</th>\n",
       "      <td>1952</td>\n",
       "      <td>http://en.wikipedia.org/wiki/1952_Formula_One_...</td>\n",
       "    </tr>\n",
       "    <tr>\n",
       "      <th>3</th>\n",
       "      <td>1953</td>\n",
       "      <td>http://en.wikipedia.org/wiki/1953_Formula_One_...</td>\n",
       "    </tr>\n",
       "    <tr>\n",
       "      <th>4</th>\n",
       "      <td>1954</td>\n",
       "      <td>http://en.wikipedia.org/wiki/1954_Formula_One_...</td>\n",
       "    </tr>\n",
       "    <tr>\n",
       "      <th>...</th>\n",
       "      <td>...</td>\n",
       "      <td>...</td>\n",
       "    </tr>\n",
       "    <tr>\n",
       "      <th>69</th>\n",
       "      <td>2019</td>\n",
       "      <td>http://en.wikipedia.org/wiki/2019_Formula_One_...</td>\n",
       "    </tr>\n",
       "    <tr>\n",
       "      <th>70</th>\n",
       "      <td>2020</td>\n",
       "      <td>http://en.wikipedia.org/wiki/2020_Formula_One_...</td>\n",
       "    </tr>\n",
       "    <tr>\n",
       "      <th>71</th>\n",
       "      <td>2021</td>\n",
       "      <td>http://en.wikipedia.org/wiki/2021_Formula_One_...</td>\n",
       "    </tr>\n",
       "    <tr>\n",
       "      <th>72</th>\n",
       "      <td>2022</td>\n",
       "      <td>http://en.wikipedia.org/wiki/2022_Formula_One_...</td>\n",
       "    </tr>\n",
       "    <tr>\n",
       "      <th>73</th>\n",
       "      <td>2023</td>\n",
       "      <td>https://en.wikipedia.org/wiki/2023_Formula_One...</td>\n",
       "    </tr>\n",
       "  </tbody>\n",
       "</table>\n",
       "<p>74 rows × 2 columns</p>\n",
       "</div>"
      ],
      "text/plain": [
       "    season                                                url\n",
       "0     1950  http://en.wikipedia.org/wiki/1950_Formula_One_...\n",
       "1     1951  http://en.wikipedia.org/wiki/1951_Formula_One_...\n",
       "2     1952  http://en.wikipedia.org/wiki/1952_Formula_One_...\n",
       "3     1953  http://en.wikipedia.org/wiki/1953_Formula_One_...\n",
       "4     1954  http://en.wikipedia.org/wiki/1954_Formula_One_...\n",
       "..     ...                                                ...\n",
       "69    2019  http://en.wikipedia.org/wiki/2019_Formula_One_...\n",
       "70    2020  http://en.wikipedia.org/wiki/2020_Formula_One_...\n",
       "71    2021  http://en.wikipedia.org/wiki/2021_Formula_One_...\n",
       "72    2022  http://en.wikipedia.org/wiki/2022_Formula_One_...\n",
       "73    2023  https://en.wikipedia.org/wiki/2023_Formula_One...\n",
       "\n",
       "[74 rows x 2 columns]"
      ]
     },
     "execution_count": 6,
     "metadata": {},
     "output_type": "execute_result"
    }
   ],
   "source": [
    "pd.DataFrame(seasons)"
   ]
  },
  {
   "cell_type": "code",
   "execution_count": null,
   "id": "21b7b795",
   "metadata": {},
   "outputs": [],
   "source": []
  }
 ],
 "metadata": {
  "kernelspec": {
   "display_name": "Python 3 (ipykernel)",
   "language": "python",
   "name": "python3"
  },
  "language_info": {
   "codemirror_mode": {
    "name": "ipython",
    "version": 3
   },
   "file_extension": ".py",
   "mimetype": "text/x-python",
   "name": "python",
   "nbconvert_exporter": "python",
   "pygments_lexer": "ipython3",
   "version": "3.9.13"
  }
 },
 "nbformat": 4,
 "nbformat_minor": 5
}
